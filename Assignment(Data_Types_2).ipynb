{
 "cells": [
  {
   "cell_type": "code",
   "execution_count": 3,
   "metadata": {},
   "outputs": [
    {
     "name": "stdout",
     "output_type": "stream",
     "text": [
      "[4, 3, 2, 1]\n"
     ]
    }
   ],
   "source": [
    "#Question 1\n",
    "# Reverse a List using List Functions\n",
    "list1=[1,2,3,4]\n",
    "list1.reverse()\n",
    "print(list1)"
   ]
  },
  {
   "cell_type": "code",
   "execution_count": 11,
   "metadata": {},
   "outputs": [
    {
     "name": "stdout",
     "output_type": "stream",
     "text": [
      "A\n",
      "B\n",
      "S\n",
      "T\n",
      "A\n",
      "N\n",
      "D\n",
      "I\n",
      "N\n",
      "G\n"
     ]
    }
   ],
   "source": [
    "#Question 2\n",
    "#Print the Uppercase Letters from a String\n",
    "str1=\"A Boy is STANDING\"\n",
    "a=len(str1)\n",
    "for i in range(0,a):\n",
    "    if str1[i].isupper():\n",
    "        print(str1[i])\n"
   ]
  },
  {
   "cell_type": "code",
   "execution_count": 23,
   "metadata": {},
   "outputs": [
    {
     "name": "stdout",
     "output_type": "stream",
     "text": [
      "[123, 2, 3, 4, 5, 6]\n"
     ]
    }
   ],
   "source": [
    "#Question 3\n",
    "#Split the user input on comma's and store the values in a list as integers.\n",
    "str1=\"123,2,3,4,5,6\"\n",
    "list1=str1.split(\",\")\n",
    "list2=[]\n",
    "for i in range(0,len(list1)):\n",
    "    list2.append(int(list1[i]))\n",
    "print(list2)"
   ]
  },
  {
   "cell_type": "code",
   "execution_count": 35,
   "metadata": {},
   "outputs": [
    {
     "name": "stdout",
     "output_type": "stream",
     "text": [
      "Palindrome\n"
     ]
    }
   ],
   "source": [
    "#Question 4\n",
    "#Check whether a string is palindromic or not.\n",
    "str1=\"12321\"\n",
    "str2=str1[::-1]\n",
    "if(str2==str1):\n",
    "    print(\"Palindrome\")\n",
    "else:\n",
    "    print(\"Not Palindrme\")"
   ]
  },
  {
   "cell_type": "code",
   "execution_count": 43,
   "metadata": {},
   "outputs": [
    {
     "name": "stdout",
     "output_type": "stream",
     "text": [
      "List 1 :\n",
      "[1, 2, 3, [4, 5], 6]\n",
      "List 2 :\n",
      "[1, 3, 4, 5, [6, 7], 8]\n",
      "List 3 :\n",
      "[1, 2, 3, [4, 5], 6]\n",
      "List 4 :\n",
      "[1, 3, 4, 5, [6, 7], 8]\n",
      "List 1 :\n",
      "[1, 2, 3, ['Hello', 5], 6]\n",
      "List 2 :\n",
      "[1, 3, 4, 5, ['hi', 7], 8]\n",
      " Shallow copied List 3 :\n",
      "[1, 2, 3, ['Hello', 5], 6]\n",
      "Deep Copied List 4 :\n",
      "[1, 3, 4, 5, [6, 7], 8]\n"
     ]
    }
   ],
   "source": [
    "#Question 5\n",
    "#Make a deepcopy of a list and write the difference between shallow copy and deep copy.\n",
    "import copy as cpy\n",
    "list1=[1,2,3,[4,5],6]\n",
    "list2=[1,3,4,5,[6,7],8]\n",
    "list3=cpy.copy(list1)\n",
    "list4=cpy.deepcopy(list2)\n",
    "print(\"List 1 :\")\n",
    "print(list1)\n",
    "print(\"List 2 :\")\n",
    "print(list2)\n",
    "print(\"List 3 :\")\n",
    "print(list3)\n",
    "print(\"List 4 :\")\n",
    "print(list4)\n",
    "list1[3][0]='Hello'\n",
    "list2[4][0]=\"hi\"\n",
    "print(\"List 1 :\")\n",
    "print(list1)\n",
    "print(\"List 2 :\")\n",
    "print(list2)\n",
    "print(\" Shallow copied List 3 :\")\n",
    "print(list3)\n",
    "print(\"Deep Copied List 4 :\")\n",
    "print(list4)\n",
    "\n",
    "#This Example Shows us that:\n",
    "#Shallow Copy:\n",
    "# It is a bit-eise copy of the object, that is, if The object contains a refrence to some other object\n",
    "# The refrence of the object is also copied, that is,The Memory Addresses are also copied\n",
    "#Deep Copy:\n",
    "# It Copies all the fields of the object, That is,if the object contains a refrence to some other object\n",
    "# A new copy of the referred object is also created."
   ]
  }
 ],
 "metadata": {
  "kernelspec": {
   "display_name": "Python 3",
   "language": "python",
   "name": "python3"
  },
  "language_info": {
   "codemirror_mode": {
    "name": "ipython",
    "version": 3
   },
   "file_extension": ".py",
   "mimetype": "text/x-python",
   "name": "python",
   "nbconvert_exporter": "python",
   "pygments_lexer": "ipython3",
   "version": "3.6.2"
  }
 },
 "nbformat": 4,
 "nbformat_minor": 2
}
