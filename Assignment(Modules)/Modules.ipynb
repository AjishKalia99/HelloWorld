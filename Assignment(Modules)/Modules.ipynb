{
 "cells": [
  {
   "cell_type": "code",
   "execution_count": 21,
   "metadata": {},
   "outputs": [
    {
     "name": "stdout",
     "output_type": "stream",
     "text": [
      "The day today is : Friday\n"
     ]
    }
   ],
   "source": [
    "#Question 1\n",
    "#Print the current day using Datetime module.\n",
    "import datetime as dt\n",
    "days={0:'Monday',1:'Tuesday',2:'Wednesday',3:'Thursday',4:'Friday',5:'Saturday',6:'Sunday'}\n",
    "a=dt.datetime.today()\n",
    "b=dt.date.weekday(a)\n",
    "print(\"The day today is : \"+days[b])"
   ]
  },
  {
   "cell_type": "code",
   "execution_count": 23,
   "metadata": {},
   "outputs": [
    {
     "name": "stdout",
     "output_type": "stream",
     "text": [
      "Please Enter The Title of The Video You Wanna See : eminem\n"
     ]
    },
    {
     "data": {
      "text/plain": [
       "True"
      ]
     },
     "execution_count": 23,
     "metadata": {},
     "output_type": "execute_result"
    }
   ],
   "source": [
    "#Question 2\n",
    "#Open your browser and play a video using webbrowser module in python.\n",
    "import webbrowser as wb\n",
    "Search=input(\"Please Enter The Title of The Video You Wanna See : \")\n",
    "wb.open_new_tab('https://www.youtube.com/results?search_query={}'.format(Search))"
   ]
  },
  {
   "cell_type": "code",
   "execution_count": 37,
   "metadata": {},
   "outputs": [
    {
     "name": "stdout",
     "output_type": "stream",
     "text": [
      "['.ipynb_checkpoints', '1(new)', '2(new)', '3(new)', '4(new)', '5(new)', '6(new)', 'Modules.ipynb']\n"
     ]
    }
   ],
   "source": [
    "#Question 3\n",
    "#Write a program to rename all the files in a directory and convert them into .jpg file format.\n",
    "import os\n",
    "Dir=os.listdir()\n",
    "for i in range(1,len(Dir)-1):\n",
    "    Dir[i],ext=os.path.splitext(Dir[i])\n",
    "    os.rename(Dir[i]+'.txt',Dir[i]+'(new).jpg')\n",
    "print(Dir)"
   ]
  }
 ],
 "metadata": {
  "kernelspec": {
   "display_name": "Python 3",
   "language": "python",
   "name": "python3"
  },
  "language_info": {
   "codemirror_mode": {
    "name": "ipython",
    "version": 3
   },
   "file_extension": ".py",
   "mimetype": "text/x-python",
   "name": "python",
   "nbconvert_exporter": "python",
   "pygments_lexer": "ipython3",
   "version": "3.6.2"
  }
 },
 "nbformat": 4,
 "nbformat_minor": 2
}
