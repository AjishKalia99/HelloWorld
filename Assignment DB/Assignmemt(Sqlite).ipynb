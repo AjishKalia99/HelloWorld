{
 "cells": [
  {
   "cell_type": "code",
   "execution_count": 2,
   "metadata": {},
   "outputs": [
    {
     "name": "stdout",
     "output_type": "stream",
     "text": [
      "Succesful\n",
      "Done!\n"
     ]
    }
   ],
   "source": [
    "#Question 1\n",
    "#Write a python script to create a databse of students named Students.\n",
    "import sqlite3\n",
    "try:\n",
    "    con=sqlite3.connect('Students.db')\n",
    "    cur=con.cursor()\n",
    "    query='create table Marks(Name varchar(10),Marks int(3))'\n",
    "    cur.execute(query)\n",
    "    print(\"Succesful\")\n",
    "    con.commit()\n",
    "except:\n",
    "    if con:\n",
    "        con.rollback()\n",
    "        print(\"Rolled Back\")\n",
    "finally:\n",
    "    if con:\n",
    "        cur.close()\n",
    "        con.close()\n",
    "        print(\"Done!\")"
   ]
  },
  {
   "cell_type": "code",
   "execution_count": 1,
   "metadata": {},
   "outputs": [
    {
     "name": "stdout",
     "output_type": "stream",
     "text": [
      "Enter Student Name a\n",
      "Enter Marks10\n",
      "Enter Student Name b\n",
      "Enter Marks90\n",
      "Enter Student Name c\n",
      "Enter Marks65\n",
      "Enter Student Name d\n",
      "Enter Marks78\n",
      "Enter Student Name e\n",
      "Enter Marks97\n",
      "Enter Student Name f\n",
      "Enter Marks45\n",
      "Enter Student Name g\n",
      "Enter Marks98\n",
      "Enter Student Name h\n",
      "Enter Marks76\n",
      "Enter Student Name i\n",
      "Enter Marks87\n",
      "Enter Student Name j\n",
      "Enter Marks68\n"
     ]
    }
   ],
   "source": [
    "#Question 2 \n",
    "#Take students name and marks(between 0-100) as input from user 10 times using loops.\n",
    "Students=[]\n",
    "for i in range(0,10):\n",
    "    rec1=input(\"Enter Student Name \")\n",
    "    rec2=int(input(\"Enter Marks\"))\n",
    "    records=(rec1,rec2)\n",
    "    Students.append(records)\n"
   ]
  },
  {
   "cell_type": "code",
   "execution_count": 4,
   "metadata": {},
   "outputs": [
    {
     "name": "stdout",
     "output_type": "stream",
     "text": [
      "Added\n",
      "Done!!\n"
     ]
    }
   ],
   "source": [
    "#Question 3\n",
    "#Add these values in two columns named \"Name\" and \"Marks\" with the appropriate data type.\n",
    "import sqlite3\n",
    "try:\n",
    "    con=sqlite3.connect(\"Students.db\")\n",
    "    cur=con.cursor()\n",
    "    query='insert into Marks(Name,Marks) values (?,?)'\n",
    "    cur.executemany(query,Students)\n",
    "    print(\"Added\")\n",
    "    con.commit()\n",
    "except:\n",
    "    con.rollback()\n",
    "    print(\"RolledBack\")\n",
    "finally:\n",
    "    cur.close()\n",
    "    con.close()\n",
    "    print(\"Done!!\")"
   ]
  },
  {
   "cell_type": "code",
   "execution_count": 14,
   "metadata": {},
   "outputs": [
    {
     "name": "stdout",
     "output_type": "stream",
     "text": [
      "Students with Marks More Than 80:\n",
      "NAME     Marks\n",
      "b         90\n",
      "e         97\n",
      "g         98\n",
      "i         87\n",
      "DONE!\n"
     ]
    }
   ],
   "source": [
    "#Question 4\n",
    "#Print the names of all the students who scored more than 80 marks.\n",
    "import sqlite3\n",
    "try:\n",
    "    con=sqlite3.connect('Students.db')\n",
    "    C=con.cursor()\n",
    "    query='select * from Marks where Marks>80'\n",
    "    C.execute(query)\n",
    "    Data=C.fetchall()\n",
    "    con.commit()\n",
    "except:\n",
    "    if con:\n",
    "        con.rollback()\n",
    "finally:\n",
    "    print(\"Students with Marks More Than 80:\")\n",
    "    print('NAME     Marks')\n",
    "    for i in range(0,len(Data)):\n",
    "        print('{}         {}'.format(Data[i][0],Data[i][1]))\n",
    "    if con:\n",
    "        C.close()\n",
    "        con.close()\n",
    "        print(\"DONE!\")"
   ]
  },
  {
   "cell_type": "code",
   "execution_count": null,
   "metadata": {},
   "outputs": [],
   "source": []
  }
 ],
 "metadata": {
  "kernelspec": {
   "display_name": "Python 3",
   "language": "python",
   "name": "python3"
  },
  "language_info": {
   "codemirror_mode": {
    "name": "ipython",
    "version": 3
   },
   "file_extension": ".py",
   "mimetype": "text/x-python",
   "name": "python",
   "nbconvert_exporter": "python",
   "pygments_lexer": "ipython3",
   "version": "3.6.2"
  }
 },
 "nbformat": 4,
 "nbformat_minor": 2
}
